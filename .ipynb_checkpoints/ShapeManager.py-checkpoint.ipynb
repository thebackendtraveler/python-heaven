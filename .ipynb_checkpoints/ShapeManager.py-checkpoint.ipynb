{
 "cells": [
  {
   "cell_type": "code",
   "execution_count": 1,
   "id": "dab1cde7",
   "metadata": {},
   "outputs": [],
   "source": [
    "#This is going to be a script where I create my own modules to import them "
   ]
  },
  {
   "cell_type": "code",
   "execution_count": 16,
   "id": "a65d9637",
   "metadata": {},
   "outputs": [],
   "source": [
    "from collections import Counter"
   ]
  },
  {
   "cell_type": "code",
   "execution_count": 19,
   "id": "d0608553",
   "metadata": {},
   "outputs": [],
   "source": [
    "def shape_a_counter():\n",
    "    \"\"\"A function that counts the shape as they are created.\n",
    "    \n",
    "    We will ask the user to input some data to create some shapes. \n",
    "    Then we will calculate the volume and the area.\n",
    "    \"\"\"\n",
    "    shape = Counter()\n",
    "    print(shape)"
   ]
  },
  {
   "cell_type": "code",
   "execution_count": null,
   "id": "57fda763",
   "metadata": {},
   "outputs": [],
   "source": [
    "\n",
    "    "
   ]
  }
 ],
 "metadata": {
  "kernelspec": {
   "display_name": "Python 3 (ipykernel)",
   "language": "python",
   "name": "python3"
  },
  "language_info": {
   "codemirror_mode": {
    "name": "ipython",
    "version": 3
   },
   "file_extension": ".py",
   "mimetype": "text/x-python",
   "name": "python",
   "nbconvert_exporter": "python",
   "pygments_lexer": "ipython3",
   "version": "3.9.12"
  }
 },
 "nbformat": 4,
 "nbformat_minor": 5
}
