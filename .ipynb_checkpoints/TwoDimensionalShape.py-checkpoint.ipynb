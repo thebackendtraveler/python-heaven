{
 "cells": [
  {
   "cell_type": "code",
   "execution_count": 1,
   "id": "1dcf2359",
   "metadata": {},
   "outputs": [
    {
     "ename": "IndentationError",
     "evalue": "expected an indented block (1093115241.py, line 3)",
     "output_type": "error",
     "traceback": [
      "\u001b[1;36m  Input \u001b[1;32mIn [1]\u001b[1;36m\u001b[0m\n\u001b[1;33m    def __init__(self, length, width, display_character):\u001b[0m\n\u001b[1;37m    ^\u001b[0m\n\u001b[1;31mIndentationError\u001b[0m\u001b[1;31m:\u001b[0m expected an indented block\n"
     ]
    }
   ],
   "source": [
    "class TwoDimensionalShape:\n",
    "    class Rectangle:\n",
    "        def __init__(self, length, width, display_character):\n",
    "            self.length = length\n",
    "            self.width = width\n",
    "            self.display_character = display_character\n",
    "    \n",
    "        def calculate_area(self):\n",
    "            return self.length * self.width\n",
    "    \n",
    "        def display(self):\n",
    "            print(\"Rectangle (1 x w): {0} x {1} with area {2}\".format(self.length, self.width, self.calculate_area()))\n",
    "        \n",
    "            print()\n",
    "            for current in range (0, self.width):\n",
    "                print(self.display_character * self.length)\n",
    "            \n",
    "    class Square:\n",
    "        def __init__(self, length, width, display_character):\n",
    "            self.length = length\n",
    "            self.width = length\n",
    "            self.disply_character = display_character\n",
    "    \n",
    "        def calculate_area(self):\n",
    "            return self.length * self.width\n",
    "    \n",
    "        def display(self):\n",
    "            print(\"Square (1 x w): {0} x {1} with area {2}\".format(self.length, self.width, self.calculate_area()))\n",
    "        \n",
    "            print()\n",
    "            for current in range(0, self.width):\n",
    "                print(self.display_character * self.length)"
   ]
  },
  {
   "cell_type": "code",
   "execution_count": null,
   "id": "437dedbb",
   "metadata": {},
   "outputs": [],
   "source": []
  }
 ],
 "metadata": {
  "kernelspec": {
   "display_name": "Python 3 (ipykernel)",
   "language": "python",
   "name": "python3"
  },
  "language_info": {
   "codemirror_mode": {
    "name": "ipython",
    "version": 3
   },
   "file_extension": ".py",
   "mimetype": "text/x-python",
   "name": "python",
   "nbconvert_exporter": "python",
   "pygments_lexer": "ipython3",
   "version": "3.9.12"
  }
 },
 "nbformat": 4,
 "nbformat_minor": 5
}
