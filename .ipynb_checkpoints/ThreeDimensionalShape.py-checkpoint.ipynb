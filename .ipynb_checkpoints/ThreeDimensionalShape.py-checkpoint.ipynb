{
 "cells": [
  {
   "cell_type": "code",
   "execution_count": 2,
   "id": "5b1d5903",
   "metadata": {},
   "outputs": [],
   "source": [
    "class ThreeDimensionalShape: \n",
    "    class Cube:\n",
    "        def __init__(self, length, width, display_character):\n",
    "            self.length = length\n",
    "            self.width = width \n",
    "            self.height = height\n",
    "            self.display_character = display_character\n",
    "        \n",
    "        def calculate_area(self):\n",
    "            return self.length * self.width * height\n",
    "    \n",
    "        def display(self):\n",
    "            print(\"Cube (1 x w): {0} x {1} x {2} with area {3}\".format(self.length, self.width, self.height, self.calculate_area()))\n",
    "        \n",
    "            print()\n",
    "            for current in range(0, self.width):\n",
    "                print(self.display_character * self.length)\n",
    "                \n",
    "    class Box:\n",
    "        def __init__(self, length, width, display_character):\n",
    "            self.length = length \n",
    "            self.width = width \n",
    "            self.height = height\n",
    "            self.display_character = display_character \n",
    "        \n",
    "        def calculate_area(self):\n",
    "            return self.length * self.width * self.height\n",
    "    \n",
    "        def display(self):\n",
    "            print(\"Box (1 x w): {0} x {1} x {2} with area {3}\".format(self.length, self.width, self.height, self.calculate_area()))\n",
    "        \n",
    "            print()\n",
    "            for current in range(0, self.width):\n",
    "                print(self.display_character * self.length)"
   ]
  },
  {
   "cell_type": "code",
   "execution_count": null,
   "id": "66984f36",
   "metadata": {},
   "outputs": [],
   "source": []
  }
 ],
 "metadata": {
  "kernelspec": {
   "display_name": "Python 3 (ipykernel)",
   "language": "python",
   "name": "python3"
  },
  "language_info": {
   "codemirror_mode": {
    "name": "ipython",
    "version": 3
   },
   "file_extension": ".py",
   "mimetype": "text/x-python",
   "name": "python",
   "nbconvert_exporter": "python",
   "pygments_lexer": "ipython3",
   "version": "3.9.12"
  }
 },
 "nbformat": 4,
 "nbformat_minor": 5
}
