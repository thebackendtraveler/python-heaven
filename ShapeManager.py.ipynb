{
 "cells": [
  {
   "cell_type": "code",
   "execution_count": 1,
   "id": "945e906b",
   "metadata": {},
   "outputs": [],
   "source": [
    "#This is going to be a script where I create my own modules to import them "
   ]
  },
  {
   "cell_type": "code",
   "execution_count": 16,
   "id": "149301a9",
   "metadata": {},
   "outputs": [],
   "source": [
    "from collections import Counter"
   ]
  },
  {
   "cell_type": "code",
   "execution_count": 20,
   "id": "5cedd20b",
   "metadata": {},
   "outputs": [],
   "source": [
    "def shape_a_counter():\n",
    "    \"\"\"A function that counts the shape as they are created.\n",
    "    \n",
    "    We will ask the user to input some data to create some shapes. \n",
    "    Then we will calculate the volume and the area.\n",
    "    \"\"\"\n",
    "    shape = Counter()\n",
    "    print(shape)"
   ]
  },
  {
   "cell_type": "code",
   "execution_count": null,
   "id": "94ee0e1d",
   "metadata": {},
   "outputs": [],
   "source": [
    "\n",
    "    "
   ]
  }
 ],
 "metadata": {
  "kernelspec": {
   "display_name": "Python 3 (ipykernel)",
   "language": "python",
   "name": "python3"
  },
  "language_info": {
   "codemirror_mode": {
    "name": "ipython",
    "version": 3
   },
   "file_extension": ".py",
   "mimetype": "text/x-python",
   "name": "python",
   "nbconvert_exporter": "python",
   "pygments_lexer": "ipython3",
   "version": "3.9.12"
  }
 },
 "nbformat": 4,
 "nbformat_minor": 5
}
